{
 "cells": [
  {
   "cell_type": "code",
   "execution_count": 1,
   "metadata": {},
   "outputs": [],
   "source": [
    "import numpy as np\n",
    "import pandas as pd\n",
    "import matplotlib.pyplot as plt\n",
    "import matplotlib\n",
    "import seaborn as sns \n",
    "%matplotlib inline"
   ]
  },
  {
   "cell_type": "code",
   "execution_count": 2,
   "metadata": {},
   "outputs": [
    {
     "name": "stdout",
     "output_type": "stream",
     "text": [
      "None\n",
      "[1, 2, 3, 4, 5, 6, [13, 21, 34]]\n"
     ]
    }
   ],
   "source": [
    "#concatenate list\n",
    "\n",
    "A = [1,2,3,4,5,6]\n",
    "B = [13, 21, 34]\n",
    "print(A.append(B))\n",
    "print(A)"
   ]
  },
  {
   "cell_type": "code",
   "execution_count": 3,
   "metadata": {},
   "outputs": [
    {
     "name": "stdout",
     "output_type": "stream",
     "text": [
      "None\n",
      "[1, 2, 3, 4, 5, 6, [13, 21, 34], 13, 21, 34]\n"
     ]
    }
   ],
   "source": [
    "print(A.extend(B))\n",
    "print(A)"
   ]
  },
  {
   "cell_type": "markdown",
   "metadata": {},
   "source": [
    "The answer to that question is \"None of the above\" because it is not possible to store the value into a third list. One of the existing list has to store the concatenated result."
   ]
  },
  {
   "cell_type": "code",
   "execution_count": 4,
   "metadata": {},
   "outputs": [
    {
     "data": {
      "text/plain": [
       "array([[1., 0., 0.],\n",
       "       [0., 1., 0.],\n",
       "       [0., 0., 1.]])"
      ]
     },
     "execution_count": 4,
     "metadata": {},
     "output_type": "execute_result"
    }
   ],
   "source": [
    "#How to create an identity matrix in python\n",
    "np.identity(3)"
   ]
  },
  {
   "cell_type": "code",
   "execution_count": 5,
   "metadata": {},
   "outputs": [
    {
     "data": {
      "text/html": [
       "<div>\n",
       "<style scoped>\n",
       "    .dataframe tbody tr th:only-of-type {\n",
       "        vertical-align: middle;\n",
       "    }\n",
       "\n",
       "    .dataframe tbody tr th {\n",
       "        vertical-align: top;\n",
       "    }\n",
       "\n",
       "    .dataframe thead th {\n",
       "        text-align: right;\n",
       "    }\n",
       "</style>\n",
       "<table border=\"1\" class=\"dataframe\">\n",
       "  <thead>\n",
       "    <tr style=\"text-align: right;\">\n",
       "      <th></th>\n",
       "      <th>record_id</th>\n",
       "      <th>utility_id_ferc1</th>\n",
       "      <th>report_year</th>\n",
       "      <th>plant_name_ferc1</th>\n",
       "      <th>fuel_type_code_pudl</th>\n",
       "      <th>fuel_unit</th>\n",
       "      <th>fuel_qty_burned</th>\n",
       "      <th>fuel_mmbtu_per_unit</th>\n",
       "      <th>fuel_cost_per_unit_burned</th>\n",
       "      <th>fuel_cost_per_unit_delivered</th>\n",
       "      <th>fuel_cost_per_mmbtu</th>\n",
       "    </tr>\n",
       "  </thead>\n",
       "  <tbody>\n",
       "    <tr>\n",
       "      <th>count</th>\n",
       "      <td>29523</td>\n",
       "      <td>29523.000000</td>\n",
       "      <td>29523.000000</td>\n",
       "      <td>29523</td>\n",
       "      <td>29523</td>\n",
       "      <td>29343</td>\n",
       "      <td>2.952300e+04</td>\n",
       "      <td>29523.000000</td>\n",
       "      <td>29523.000000</td>\n",
       "      <td>2.952300e+04</td>\n",
       "      <td>29523.000000</td>\n",
       "    </tr>\n",
       "    <tr>\n",
       "      <th>unique</th>\n",
       "      <td>29523</td>\n",
       "      <td>NaN</td>\n",
       "      <td>NaN</td>\n",
       "      <td>2315</td>\n",
       "      <td>6</td>\n",
       "      <td>9</td>\n",
       "      <td>NaN</td>\n",
       "      <td>NaN</td>\n",
       "      <td>NaN</td>\n",
       "      <td>NaN</td>\n",
       "      <td>NaN</td>\n",
       "    </tr>\n",
       "    <tr>\n",
       "      <th>top</th>\n",
       "      <td>f1_fuel_1997_12_194_0_13</td>\n",
       "      <td>NaN</td>\n",
       "      <td>NaN</td>\n",
       "      <td>big stone</td>\n",
       "      <td>gas</td>\n",
       "      <td>mcf</td>\n",
       "      <td>NaN</td>\n",
       "      <td>NaN</td>\n",
       "      <td>NaN</td>\n",
       "      <td>NaN</td>\n",
       "      <td>NaN</td>\n",
       "    </tr>\n",
       "    <tr>\n",
       "      <th>freq</th>\n",
       "      <td>1</td>\n",
       "      <td>NaN</td>\n",
       "      <td>NaN</td>\n",
       "      <td>156</td>\n",
       "      <td>11486</td>\n",
       "      <td>11354</td>\n",
       "      <td>NaN</td>\n",
       "      <td>NaN</td>\n",
       "      <td>NaN</td>\n",
       "      <td>NaN</td>\n",
       "      <td>NaN</td>\n",
       "    </tr>\n",
       "    <tr>\n",
       "      <th>mean</th>\n",
       "      <td>NaN</td>\n",
       "      <td>118.601836</td>\n",
       "      <td>2005.806050</td>\n",
       "      <td>NaN</td>\n",
       "      <td>NaN</td>\n",
       "      <td>NaN</td>\n",
       "      <td>2.622119e+06</td>\n",
       "      <td>8.492111</td>\n",
       "      <td>208.649031</td>\n",
       "      <td>9.175704e+02</td>\n",
       "      <td>19.304354</td>\n",
       "    </tr>\n",
       "    <tr>\n",
       "      <th>std</th>\n",
       "      <td>NaN</td>\n",
       "      <td>74.178353</td>\n",
       "      <td>7.025483</td>\n",
       "      <td>NaN</td>\n",
       "      <td>NaN</td>\n",
       "      <td>NaN</td>\n",
       "      <td>9.118004e+06</td>\n",
       "      <td>10.600220</td>\n",
       "      <td>2854.490090</td>\n",
       "      <td>6.877593e+04</td>\n",
       "      <td>2091.540939</td>\n",
       "    </tr>\n",
       "    <tr>\n",
       "      <th>min</th>\n",
       "      <td>NaN</td>\n",
       "      <td>1.000000</td>\n",
       "      <td>1994.000000</td>\n",
       "      <td>NaN</td>\n",
       "      <td>NaN</td>\n",
       "      <td>NaN</td>\n",
       "      <td>1.000000e+00</td>\n",
       "      <td>0.000001</td>\n",
       "      <td>-276.080000</td>\n",
       "      <td>-8.749370e+02</td>\n",
       "      <td>-41.501000</td>\n",
       "    </tr>\n",
       "    <tr>\n",
       "      <th>25%</th>\n",
       "      <td>NaN</td>\n",
       "      <td>55.000000</td>\n",
       "      <td>2000.000000</td>\n",
       "      <td>NaN</td>\n",
       "      <td>NaN</td>\n",
       "      <td>NaN</td>\n",
       "      <td>1.381700e+04</td>\n",
       "      <td>1.024000</td>\n",
       "      <td>5.207000</td>\n",
       "      <td>3.778500e+00</td>\n",
       "      <td>1.940000</td>\n",
       "    </tr>\n",
       "    <tr>\n",
       "      <th>50%</th>\n",
       "      <td>NaN</td>\n",
       "      <td>122.000000</td>\n",
       "      <td>2006.000000</td>\n",
       "      <td>NaN</td>\n",
       "      <td>NaN</td>\n",
       "      <td>NaN</td>\n",
       "      <td>2.533220e+05</td>\n",
       "      <td>5.762694</td>\n",
       "      <td>26.000000</td>\n",
       "      <td>1.737100e+01</td>\n",
       "      <td>4.127000</td>\n",
       "    </tr>\n",
       "    <tr>\n",
       "      <th>75%</th>\n",
       "      <td>NaN</td>\n",
       "      <td>176.000000</td>\n",
       "      <td>2012.000000</td>\n",
       "      <td>NaN</td>\n",
       "      <td>NaN</td>\n",
       "      <td>NaN</td>\n",
       "      <td>1.424034e+06</td>\n",
       "      <td>17.006000</td>\n",
       "      <td>47.113000</td>\n",
       "      <td>4.213700e+01</td>\n",
       "      <td>7.745000</td>\n",
       "    </tr>\n",
       "    <tr>\n",
       "      <th>max</th>\n",
       "      <td>NaN</td>\n",
       "      <td>514.000000</td>\n",
       "      <td>2018.000000</td>\n",
       "      <td>NaN</td>\n",
       "      <td>NaN</td>\n",
       "      <td>NaN</td>\n",
       "      <td>5.558942e+08</td>\n",
       "      <td>341.260000</td>\n",
       "      <td>139358.000000</td>\n",
       "      <td>7.964521e+06</td>\n",
       "      <td>359278.000000</td>\n",
       "    </tr>\n",
       "  </tbody>\n",
       "</table>\n",
       "</div>"
      ],
      "text/plain": [
       "                       record_id  utility_id_ferc1   report_year  \\\n",
       "count                      29523      29523.000000  29523.000000   \n",
       "unique                     29523               NaN           NaN   \n",
       "top     f1_fuel_1997_12_194_0_13               NaN           NaN   \n",
       "freq                           1               NaN           NaN   \n",
       "mean                         NaN        118.601836   2005.806050   \n",
       "std                          NaN         74.178353      7.025483   \n",
       "min                          NaN          1.000000   1994.000000   \n",
       "25%                          NaN         55.000000   2000.000000   \n",
       "50%                          NaN        122.000000   2006.000000   \n",
       "75%                          NaN        176.000000   2012.000000   \n",
       "max                          NaN        514.000000   2018.000000   \n",
       "\n",
       "       plant_name_ferc1 fuel_type_code_pudl fuel_unit  fuel_qty_burned  \\\n",
       "count             29523               29523     29343     2.952300e+04   \n",
       "unique             2315                   6         9              NaN   \n",
       "top           big stone                 gas       mcf              NaN   \n",
       "freq                156               11486     11354              NaN   \n",
       "mean                NaN                 NaN       NaN     2.622119e+06   \n",
       "std                 NaN                 NaN       NaN     9.118004e+06   \n",
       "min                 NaN                 NaN       NaN     1.000000e+00   \n",
       "25%                 NaN                 NaN       NaN     1.381700e+04   \n",
       "50%                 NaN                 NaN       NaN     2.533220e+05   \n",
       "75%                 NaN                 NaN       NaN     1.424034e+06   \n",
       "max                 NaN                 NaN       NaN     5.558942e+08   \n",
       "\n",
       "        fuel_mmbtu_per_unit  fuel_cost_per_unit_burned  \\\n",
       "count          29523.000000               29523.000000   \n",
       "unique                  NaN                        NaN   \n",
       "top                     NaN                        NaN   \n",
       "freq                    NaN                        NaN   \n",
       "mean               8.492111                 208.649031   \n",
       "std               10.600220                2854.490090   \n",
       "min                0.000001                -276.080000   \n",
       "25%                1.024000                   5.207000   \n",
       "50%                5.762694                  26.000000   \n",
       "75%               17.006000                  47.113000   \n",
       "max              341.260000              139358.000000   \n",
       "\n",
       "        fuel_cost_per_unit_delivered  fuel_cost_per_mmbtu  \n",
       "count                   2.952300e+04         29523.000000  \n",
       "unique                           NaN                  NaN  \n",
       "top                              NaN                  NaN  \n",
       "freq                             NaN                  NaN  \n",
       "mean                    9.175704e+02            19.304354  \n",
       "std                     6.877593e+04          2091.540939  \n",
       "min                    -8.749370e+02           -41.501000  \n",
       "25%                     3.778500e+00             1.940000  \n",
       "50%                     1.737100e+01             4.127000  \n",
       "75%                     4.213700e+01             7.745000  \n",
       "max                     7.964521e+06        359278.000000  "
      ]
     },
     "execution_count": 5,
     "metadata": {},
     "output_type": "execute_result"
    }
   ],
   "source": [
    "url=\"https://raw.githubusercontent.com/WalePhenomenon/climate_change/master/fuel_ferc1.csv\"\n",
    "fuel_data = pd.read_csv(url)\n",
    "fuel_data.describe(include='all')"
   ]
  },
  {
   "cell_type": "code",
   "execution_count": 6,
   "metadata": {},
   "outputs": [
    {
     "data": {
      "text/plain": [
       "fuel_type_code_pudl\n",
       "gas          13.659397\n",
       "other        18.253856\n",
       "waste        19.518122\n",
       "coal         67.421830\n",
       "oil         168.877086\n",
       "nuclear    4955.157002\n",
       "Name: fuel_cost_per_unit_burned, dtype: float64"
      ]
     },
     "execution_count": 6,
     "metadata": {},
     "output_type": "execute_result"
    }
   ],
   "source": [
    "lowest_ave = fuel_data.groupby(\"fuel_type_code_pudl\")[\"fuel_cost_per_unit_burned\"].mean().sort_values()\n",
    "lowest_ave\n",
    "\n",
    "#gas is the fuel type with the lowest average fuel cost per unit burned"
   ]
  },
  {
   "cell_type": "code",
   "execution_count": 7,
   "metadata": {},
   "outputs": [
    {
     "data": {
      "text/plain": [
       "utility_id_ferc1                7.417835e+01\n",
       "report_year                     7.025483e+00\n",
       "fuel_qty_burned                 9.118004e+06\n",
       "fuel_mmbtu_per_unit             1.060022e+01\n",
       "fuel_cost_per_unit_burned       2.854490e+03\n",
       "fuel_cost_per_unit_delivered    6.877593e+04\n",
       "fuel_cost_per_mmbtu             2.091541e+03\n",
       "dtype: float64"
      ]
     },
     "execution_count": 7,
     "metadata": {},
     "output_type": "execute_result"
    }
   ],
   "source": [
    "std_of_energy = fuel_data.std()\n",
    "std_of_energy"
   ]
  },
  {
   "cell_type": "code",
   "execution_count": 8,
   "metadata": {},
   "outputs": [
    {
     "name": "stdout",
     "output_type": "stream",
     "text": [
      "10.6\n"
     ]
    }
   ],
   "source": [
    "#1.060022e+01 = 1.060022 · 10^+1 = 10 =  E stands for exponent of 10.\n",
    "\n",
    "fuel_mmbtu_per_unit_std = 10.60022\n",
    "print(round(fuel_mmbtu_per_unit_std, 2))"
   ]
  },
  {
   "cell_type": "code",
   "execution_count": 9,
   "metadata": {},
   "outputs": [
    {
     "data": {
      "text/plain": [
       "0.25     1.024000\n",
       "0.50     5.762694\n",
       "0.75    17.006000\n",
       "Name: fuel_mmbtu_per_unit, dtype: float64"
      ]
     },
     "execution_count": 9,
     "metadata": {},
     "output_type": "execute_result"
    }
   ],
   "source": [
    "fuel_data['fuel_mmbtu_per_unit'].quantile([.25, .5, .75])\n",
    "#std - 10.60, 75th percentile - 17.01"
   ]
  },
  {
   "cell_type": "code",
   "execution_count": 10,
   "metadata": {},
   "outputs": [
    {
     "name": "stdout",
     "output_type": "stream",
     "text": [
      "15.851495469109503\n",
      "651.3694501337732\n"
     ]
    }
   ],
   "source": [
    "print(fuel_data[\"fuel_qty_burned\"].skew())\n",
    "print(fuel_data[\"fuel_qty_burned\"].kurt())"
   ]
  },
  {
   "cell_type": "code",
   "execution_count": 11,
   "metadata": {},
   "outputs": [
    {
     "data": {
      "text/plain": [
       "record_id                         0\n",
       "utility_id_ferc1                  0\n",
       "report_year                       0\n",
       "plant_name_ferc1                  0\n",
       "fuel_type_code_pudl               0\n",
       "fuel_unit                       180\n",
       "fuel_qty_burned                   0\n",
       "fuel_mmbtu_per_unit               0\n",
       "fuel_cost_per_unit_burned         0\n",
       "fuel_cost_per_unit_delivered      0\n",
       "fuel_cost_per_mmbtu               0\n",
       "dtype: int64"
      ]
     },
     "execution_count": 11,
     "metadata": {},
     "output_type": "execute_result"
    }
   ],
   "source": [
    "missing = fuel_data.isnull().sum()\n",
    "missing"
   ]
  },
  {
   "cell_type": "code",
   "execution_count": 12,
   "metadata": {},
   "outputs": [
    {
     "data": {
      "text/plain": [
       "record_id                       0.000000\n",
       "utility_id_ferc1                0.000000\n",
       "report_year                     0.000000\n",
       "plant_name_ferc1                0.000000\n",
       "fuel_type_code_pudl             0.000000\n",
       "fuel_unit                       0.006097\n",
       "fuel_qty_burned                 0.000000\n",
       "fuel_mmbtu_per_unit             0.000000\n",
       "fuel_cost_per_unit_burned       0.000000\n",
       "fuel_cost_per_unit_delivered    0.000000\n",
       "fuel_cost_per_mmbtu             0.000000\n",
       "dtype: float64"
      ]
     },
     "execution_count": 12,
     "metadata": {},
     "output_type": "execute_result"
    }
   ],
   "source": [
    "n_of_rows = len(fuel_data)\n",
    "pct = missing / n_of_rows\n",
    "pct"
   ]
  },
  {
   "cell_type": "code",
   "execution_count": 13,
   "metadata": {},
   "outputs": [
    {
     "name": "stdout",
     "output_type": "stream",
     "text": [
      "0.006\n"
     ]
    }
   ],
   "source": [
    "print(round(0.006097,3))"
   ]
  },
  {
   "cell_type": "code",
   "execution_count": 14,
   "metadata": {},
   "outputs": [],
   "source": [
    "#fuel_unit - 180 missing rows - 0.006"
   ]
  },
  {
   "cell_type": "code",
   "execution_count": 15,
   "metadata": {},
   "outputs": [
    {
     "data": {
      "text/plain": [
       "record_id                        object\n",
       "utility_id_ferc1                  int64\n",
       "report_year                       int64\n",
       "plant_name_ferc1                 object\n",
       "fuel_type_code_pudl              object\n",
       "fuel_unit                        object\n",
       "fuel_qty_burned                 float64\n",
       "fuel_mmbtu_per_unit             float64\n",
       "fuel_cost_per_unit_burned       float64\n",
       "fuel_cost_per_unit_delivered    float64\n",
       "fuel_cost_per_mmbtu             float64\n",
       "dtype: object"
      ]
     },
     "execution_count": 15,
     "metadata": {},
     "output_type": "execute_result"
    }
   ],
   "source": [
    "fuel_data.dtypes"
   ]
  },
  {
   "cell_type": "code",
   "execution_count": 16,
   "metadata": {},
   "outputs": [
    {
     "data": {
      "text/plain": [
       "0        ton\n",
       "1        ton\n",
       "2        ton\n",
       "3        ton\n",
       "4        mcf\n",
       "        ... \n",
       "29518    mcf\n",
       "29519    mcf\n",
       "29520    mcf\n",
       "29521    ton\n",
       "29522    mcf\n",
       "Name: fuel_unit, Length: 29523, dtype: category\n",
       "Categories (9, object): [bbl, gal, gramsU, kgU, ..., mmbtu, mwdth, mwhth, ton]"
      ]
     },
     "execution_count": 16,
     "metadata": {},
     "output_type": "execute_result"
    }
   ],
   "source": [
    "fuel_data['fuel_unit'] = pd.Categorical(fuel_data['fuel_unit'])\n",
    "fuel_data['fuel_unit']\n",
    "#fuel_unit has a category data type and mode imputation"
   ]
  },
  {
   "cell_type": "code",
   "execution_count": 17,
   "metadata": {},
   "outputs": [
    {
     "data": {
      "image/png": "[encoded data removed]",
      "text/plain": [
       "<Figure size 432x288 with 2 Axes>"
      ]
     },
     "metadata": {
      "needs_background": "light"
     },
     "output_type": "display_data"
    }
   ],
   "source": [
    "df_small = fuel_data.iloc[:,2:]\n",
    "correlation_mat = df_small.corr()\n",
    "sns.heatmap(correlation_mat, annot = True)\n",
    "plt.show()\n",
    "\n",
    "#fuel_qty_burned and fuel_mmbtu_per_unit"
   ]
  },
  {
   "cell_type": "code",
   "execution_count": 18,
   "metadata": {},
   "outputs": [
    {
     "name": "stdout",
     "output_type": "stream",
     "text": [
      "             utility_id_ferc1  fuel_qty_burned  fuel_mmbtu_per_unit  \\\n",
      "report_year                                                           \n",
      "1994                    50430     7.172082e+08         10293.429297   \n",
      "1995                    51231     1.257398e+09         10262.019015   \n",
      "1996                    45720     6.988514e+08          9269.878000   \n",
      "1997                    44254     8.169024e+08          9000.095755   \n",
      "1998                    46403     8.982095e+08          9212.781694   \n",
      "1999                    45126     8.805301e+08          9052.256583   \n",
      "2000                    44271     8.620492e+08          8584.171000   \n",
      "2001                    40232     8.564316e+08          7574.081578   \n",
      "2002                    38592     8.144357e+08          6967.923735   \n",
      "2003                    38876     8.018815e+08          6906.303079   \n",
      "2004                    38246     7.735318e+08          6677.321225   \n",
      "2005                    37923     6.046304e+08          6712.699417   \n",
      "2006                    37535     6.002375e+08          6770.056762   \n",
      "2007                    37444     6.131788e+08          6806.668782   \n",
      "2008                    38487     5.752296e+08          6577.120958   \n",
      "2009                    37503     5.219981e+08          6466.146698   \n",
      "2010                    36877     5.931191e+08          6420.927249   \n",
      "2011                    39557     5.228667e+08          6535.775560   \n",
      "2012                    39453     4.833351e+08          6595.084441   \n",
      "2013                    38759     5.001244e+08          6478.798444   \n",
      "2014                    40106     4.571944e+08          5932.994198   \n",
      "2015                    33587     3.878417e+08          5300.479998   \n",
      "2016                    30469     3.804213e+08          4652.271091   \n",
      "2017                    28995     3.297659e+08          4343.490065   \n",
      "2018                    28278     3.216100e+08          4066.708564   \n",
      "\n",
      "             fuel_cost_per_unit_burned  fuel_cost_per_unit_delivered  \\\n",
      "report_year                                                            \n",
      "1994                         14984.572                     59215.371   \n",
      "1995                         14571.785                     13704.146   \n",
      "1996                         12694.803                     12087.581   \n",
      "1997                         43742.178                     11308.641   \n",
      "1998                         11902.597                    308602.749   \n",
      "1999                         16303.468                     14774.389   \n",
      "2000                        100428.831                     69796.564   \n",
      "2001                         15109.012                     14209.655   \n",
      "2002                          9171.164                      8667.629   \n",
      "2003                         30954.110                      8791.737   \n",
      "2004                          9632.063                      9174.146   \n",
      "2005                         11107.182                     10666.724   \n",
      "2006                         12402.684                     11564.840   \n",
      "2007                         12965.171                     12011.237   \n",
      "2008                         14331.348                     13707.916   \n",
      "2009                         45554.858                     14525.653   \n",
      "2010                         88627.745                     58305.055   \n",
      "2011                         17001.015                     16047.700   \n",
      "2012                         17546.097                     16473.907   \n",
      "2013                         17629.860                     16184.979   \n",
      "2014                         15412.197                     14446.172   \n",
      "2015                         13338.235                     12103.496   \n",
      "2016                         11100.925                     10120.573   \n",
      "2017                         10254.284                      9037.849   \n",
      "2018                          9488.197                    254052.695   \n",
      "\n",
      "             fuel_cost_per_mmbtu  \n",
      "report_year                       \n",
      "1994                   682.14697  \n",
      "1995                   663.74149  \n",
      "1996                   581.57661  \n",
      "1997                   551.68662  \n",
      "1998                   557.06574  \n",
      "1999                   540.98716  \n",
      "2000                   506.31631  \n",
      "2001                   474.98225  \n",
      "2002                   442.40938  \n",
      "2003                   439.63376  \n",
      "2004                   455.36301  \n",
      "2005                   521.97182  \n",
      "2006                   580.23002  \n",
      "2007                   609.17779  \n",
      "2008                   683.60135  \n",
      "2009                   738.17690  \n",
      "2010                   738.44617  \n",
      "2011                   812.55793  \n",
      "2012                   845.89671  \n",
      "2013                   845.00928  \n",
      "2014                   754.22280  \n",
      "2015                   669.65187  \n",
      "2016                   571.56333  \n",
      "2017                   522.20423  \n",
      "2018                   486.49567  \n",
      "report_year\n",
      "1994         NaN\n",
      "1998   -0.205677\n",
      "Name: fuel_cost_per_unit_burned, dtype: float64\n",
      "-21\n"
     ]
    }
   ],
   "source": [
    "coalfueldata = fuel_data.loc[fuel_data[\"fuel_type_code_pudl\"]== \"coal\"]\n",
    "grouped = coalfueldata.groupby('report_year')\n",
    "coal_sum = grouped.sum()\n",
    "print(coal_sum)\n",
    "\n",
    "anserw = coal_sum.loc[[1994,1998],\"fuel_cost_per_unit_burned\"]\n",
    "print(anserw.pct_change())\n",
    "\n",
    "decimal = -0.205677 * 100\n",
    "print(round(decimal))"
   ]
  },
  {
   "cell_type": "code",
   "execution_count": 19,
   "metadata": {},
   "outputs": [
    {
     "data": {
      "text/plain": [
       "report_year\n",
       "1997    11140.197239\n",
       "Name: fuel_cost_per_unit_delivered, dtype: float64"
      ]
     },
     "execution_count": 19,
     "metadata": {},
     "output_type": "execute_result"
    }
   ],
   "source": [
    "highest_ave_year = fuel_data.groupby(\"report_year\")[\"fuel_cost_per_unit_delivered\"].mean().sort_values(ascending=False).head(1)\n",
    "highest_ave_year"
   ]
  }
 ],
 "metadata": {
  "kernelspec": {
   "display_name": "Python 3",
   "language": "python",
   "name": "python3"
  },
  "language_info": {
   "codemirror_mode": {
    "name": "ipython",
    "version": 3
   },
   "file_extension": ".py",
   "mimetype": "text/x-python",
   "name": "python",
   "nbconvert_exporter": "python",
   "pygments_lexer": "ipython3",
   "version": "3.7.6"
  }
 },
 "nbformat": 4,
 "nbformat_minor": 4
}
